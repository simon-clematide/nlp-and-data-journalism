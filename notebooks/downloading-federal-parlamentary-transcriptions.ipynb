{
 "cells": [
  {
   "cell_type": "markdown",
   "metadata": {},
   "source": [
    "# Federal Parlamentary Transcriptions\n"
   ]
  },
  {
   "cell_type": "markdown",
   "metadata": {},
   "source": [
    "##  Downloading Federal Parlamentary Transcriptions\n",
    "It's a lot of data... Download it in a robust way\n",
    "Please do not execute the command now..."
   ]
  },
  {
   "cell_type": "code",
   "execution_count": null,
   "metadata": {},
   "outputs": [],
   "source": [
    "import sys\n",
    "import time\n",
    "\n",
    "import requests\n",
    "import jsonlines\n",
    "\n",
    "# open/write compressed files without hassle\n",
    "from smart_open import open\n",
    "\n",
    "# where to store the jsonline file locally\n",
    "local_file_name = 'parlament_transcriptions.jsonl.bz2'\n",
    "\n",
    "# highest transcription id to look for \n",
    "max_transcription_id = 260000\n",
    "\n",
    "\n",
    "# download in chunks (default of odata server from parlament)\n",
    "chunk = 1000\n",
    "\n",
    "# Limit to \"German\" transcriptions (but never trust foreign data...)\n",
    "url_template = 'https://ws.parlament.ch/odata.svc/Transcript/'\n",
    "filter = \"Language eq 'DE' and ID ge {lower}L and ID lt {upper}L\"\n",
    "\n",
    "with open(local_file_name,'w') as f:\n",
    "    writer = jsonlines.Writer(f)\n",
    "    for lower in range(0,max_transcription_id,chunk):\n",
    "        downloaded = False\n",
    "        while not downloaded:\n",
    "            url = url_template.format(chunk=chunk,lower=lower, upper=lower+chunk)\n",
    "            \n",
    "            r = requests.get(url,\n",
    "                             params={\n",
    "                \"$filter\":filter.format(chunk=chunk,lower=lower, upper=lower+chunk),\n",
    "                \"$format\":\"json\"})\n",
    "            try:\n",
    "                r.raise_for_status()\n",
    "                # get the json data from the request's answer\n",
    "                rjson = r.json()\n",
    "                \n",
    "                # some sanity checks...\n",
    "                if not \"d\" in rjson or rjson[\"d\"] == []:\n",
    "                    print(f\"No data found in {r.url}\", file=sys.stderr)\n",
    "                    downloaded = True\n",
    "                    continue\n",
    "                \n",
    "                # inform the user about progress\n",
    "                print(f\"{len(rjson['d']['results'])} transcripts found in {r.url}\", file=sys.stderr)\n",
    "                \n",
    "                # write a list of transcriptions in one go\n",
    "                writer.write_all(rjson[\"d\"][\"results\"])\n",
    "                downloaded = True\n",
    "\n",
    "            except requests.exceptions.HTTPError as e:\n",
    "                print(f\"{e}\",file=sys.stderr)\n",
    "                # let's be patient if server has temporary problems\n",
    "                time.sleep(20)\n",
    "            finally:\n",
    "                # be nice to the server ...\n",
    "                time.sleep(1)\n",
    "\n"
   ]
  },
  {
   "cell_type": "code",
   "execution_count": null,
   "metadata": {},
   "outputs": [],
   "source": [
    "! bzcat parlament_transcriptions.jsonl.bz2 "
   ]
  },
  {
   "cell_type": "markdown",
   "metadata": {},
   "source": [
    "or just download the already downloaded file"
   ]
  },
  {
   "cell_type": "code",
   "execution_count": null,
   "metadata": {},
   "outputs": [],
   "source": [
    "! wget https://files.ifi.uzh.ch/cl/siclemat/lehre/hs19/tm/parlament_transcriptions.jsonl.bz2"
   ]
  },
  {
   "cell_type": "markdown",
   "metadata": {},
   "source": [
    "## Convert transcriptions into plain tab-separated text format \n",
    "Transcriptions are mixed XML content"
   ]
  },
  {
   "cell_type": "code",
   "execution_count": null,
   "metadata": {},
   "outputs": [],
   "source": [
    "import requests\n",
    "import jsonlines\n",
    "import sys\n",
    "import time\n",
    "import re\n",
    "from smart_open import open\n",
    "\n",
    "# better XML processing than the built-in\n",
    "from lxml import etree\n",
    "\n",
    "local_file_name = 'parlament_transcriptions.jsonl.bz2'\n",
    "\n",
    "local_tsv_file_name = 'parlament_transcriptions.tsv.bz2'\n",
    "\n",
    "def flattened_text(text):\n",
    "    \"\"\"Return text with all whitespace characters normalized to space\"\"\"\n",
    "\n",
    "    text_list = extract_text_list(text)\n",
    "    return \" \".join(re.sub(r'\\s+',' ',t) for t in text_list).strip()\n",
    "\n",
    "def extract_text_list(text):\n",
    "    \"\"\"\n",
    "    Return textual contents of mixed content xmlrpclib\n",
    "\n",
    "    see https://lxml.de/tutorial.html#using-xpath-to-find-text\n",
    "\n",
    "    \"\"\"\n",
    "    xml = etree.fromstring(text)\n",
    "    try:\n",
    "        result = etree.XPath(\"//text()\")(xml)\n",
    "    except:\n",
    "        print(f\"XML PROBLEM: {xml}\",file=sys.stderr)\n",
    "        return \"_\"\n",
    "    return result\n",
    "\n",
    "\n",
    "\n",
    "\n",
    "with open(local_file_name,'r') as f:\n",
    "    reader = jsonlines.Reader(f)\n",
    "    with open(local_tsv_file_name, \"w\") as of:\n",
    "        for i,obj in enumerate(reader):\n",
    "            # normalize the XML transcripts into plain text\n",
    "            normalized_text = flattened_text(obj[\"Text\"]).strip() if obj[\"Text\"] else \"_\"\n",
    "            \n",
    "            # let's use symbolic names for parlamentary group names for readability of the data\n",
    "            parlamentary_group_name = re.sub(r'\\W+','',obj.get(\"ParlGroupName\") if obj[\"ParlGroupName\"] else '_')\n",
    "            speaker_full_name = re.sub(r'\\W+','',obj[\"SpeakerFullName\"]) if obj[\"SpeakerFullName\"] else '_'\n",
    "            \n",
    "            # write tab-separated file\n",
    "            print(parlamentary_group_name, speaker_full_name, normalized_text, sep=\"\\t\", file=of)\n",
    "\n",
    "            # emit basic progress information\n",
    "            if i % 10000 == 0:\n",
    "                print(f\"{i} transcripts processed\", file=sys.stderr)\n",
    "\n",
    "print('Done',file=sys.stderr)\n"
   ]
  },
  {
   "cell_type": "markdown",
   "metadata": {},
   "source": [
    "## Turning XML content into simple plain text"
   ]
  },
  {
   "cell_type": "code",
   "execution_count": null,
   "metadata": {},
   "outputs": [],
   "source": [
    "sample_xml = \"\"\"<pd_text><p>[VS]</p>\\n<p><b>Wahl der zweiten Vizepräsidentin des Nationalrates für 1999/2000</b></p>\\n<p><b>Election de la deuxième vice-présidente du Conseil national pour 1999/2000</b></p>\\n<p>[VS]</p>\\n<p><b>Präsident</b> (Seiler Hanspeter, Präsident): Die sozialdemokratische Fraktion, unterstützt von der freisinnig-demokratischen, der SVP-, der christlichdemokratischen, der evangelischen und unabhängigen Fraktion, schlägt Ihnen Frau Maury Pasquier vor.</p>\\n<p>[VS]</p>\\n<p><i>Ergebnis der Wahl - Résultat du scrutin</i></p>\\n<p>Ausgeteilte Wahlzettel - Bulletins délivrés .... 176</p>\\n<p>eingelangt - rentrés .... 176</p>\\n<p>leer - blancs .... 16</p>\\n<p>ungültig - nuls .... 1</p>\\n<p>gültig - valables .... 159</p>\\n<p>absolutes Mehr - Majorité absolue .... 80</p>\\n<p>[VS]</p>\\n<p><i>Es wird gewählt - Est élue</i></p>\\n<p>Maury Pasquier Liliane .... mit 130 Stimmen</p>\\n<p>[VS]</p>\\n<p><i>Ferner haben Stimmen erhalten - Ont en outre obtenu des voix</i></p>\\n<p>Zapfl Rosmarie .... 12</p>\\n<p>Verschiedene - Divers .... 17</p>\\n<p>[VS]</p>\\n<p><b>Präsident</b> (Seiler Hanspeter, Präsident): Ich gratuliere Frau Maury Pasquier zu ihrer guten Wahl. <i>(Beifall)</i></p>\\n<p>[VS]</p>\\n<p>[VS]</p>\\n<p><b>Wahl der vier Stimmenzähler und der vier Ersatzstimmenzähler</b></p>\\n<p><b>Election des quatre scrutateurs et des quatre scrutateurs suppléants</b></p>\\n<p>[VS]</p>\\n<p><b>Präsident</b> (Seiler Hanspeter, Präsident): Wir kommen zur Wahl der Stimmenzähler und der Ersatzstimmenzähler. Die Wahlvorschläge sind Ihnen ausgeteilt worden. Es findet eine Listenwahl statt. Die vier ersten Namen betreffen die Stimmenzähler, die vier weiteren Namen die Ersatzstimmenzähler.</p>\\n<p>[VS]</p>\\n<p><i>Ergebnis der Wahl - Résultat du scrutin</i></p>\\n<p>Ausgeteilte Wahlzettel - Bulletins délivrés .... 156</p>\\n<p>eingelangt - rentrés .... 154</p>\\n<p>leer - blancs .... 0</p>\\n<p>ungültig - nuls .... 0</p>\\n<p>gültig - valables .... 154</p>\\n<p>absolutes Mehr - Majorité absolue .... 78</p>\\n<p>[PAGE 2376] [VS]</p>\\n<p>Es werden gewählt - Sont élus</p>\\n<p>[VS]</p>\\n<p><i>Stimmenzähler - Scrutateurs</i></p>\\n<p>Binder Max .... mit 140 Stimmen</p>\\n<p>Günter Paul .... mit 131 Stimmen</p>\\n<p>Lauper Hubert .... mit 150 Stimmen</p>\\n<p>Tschuppert Karl .... mit 141 Stimmen</p>\\n<p>[VS]</p>\\n<p><i>Ersatzstimmenzähler - Scrutateurs suppléants</i></p>\\n<p>Galli Remo .... mit 147 Stimmen</p>\\n<p>Schmied Walter .... mit 141 Stimmen</p>\\n<p>Tillmanns Pierre .... mit 141 Stimmen</p>\\n<p>Wittenwiler Milli .... mit 151 Stimmen</p>\\n<p>[VS]</p>\\n<p><b>Präsident </b>(Seiler Hanspeter, Präsident): Ich gratuliere den Gewählten zu ihrer Wahl. <i>(Beifall)</i></p>\\n</pd_text>\"\"\""
   ]
  },
  {
   "cell_type": "code",
   "execution_count": null,
   "metadata": {},
   "outputs": [],
   "source": [
    "extract_text_list(sample_xml)"
   ]
  },
  {
   "cell_type": "code",
   "execution_count": null,
   "metadata": {},
   "outputs": [],
   "source": [
    "flattened_text(sample_xml)"
   ]
  },
  {
   "cell_type": "code",
   "execution_count": null,
   "metadata": {},
   "outputs": [],
   "source": [
    "! wget https://files.ifi.uzh.ch/cl/siclemat/lehre/hs19/tm/parlament_transcriptions.tsv.bz2"
   ]
  }
 ],
 "metadata": {
  "kernelspec": {
   "display_name": "Python 3",
   "language": "python",
   "name": "python3"
  },
  "language_info": {
   "codemirror_mode": {
    "name": "ipython",
    "version": 3
   },
   "file_extension": ".py",
   "mimetype": "text/x-python",
   "name": "python",
   "nbconvert_exporter": "python",
   "pygments_lexer": "ipython3"
  }
 },
 "nbformat": 4,
 "nbformat_minor": 2
}
