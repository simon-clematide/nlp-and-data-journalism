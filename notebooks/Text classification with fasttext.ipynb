{
 "cells": [
  {
   "cell_type": "markdown",
   "metadata": {},
   "source": [
    "# Text classification with fasttext\n"
   ]
  },
  {
   "cell_type": "markdown",
   "metadata": {},
   "source": [
    "Preparing the input file"
   ]
  },
  {
   "cell_type": "code",
   "execution_count": null,
   "metadata": {},
   "outputs": [],
   "source": [
    "! test -e parlament_transcriptions_tokenized_de.tsv || wget https://files.ifi.uzh.ch/cl/siclemat/lehre/hs19/tm/parlament_transcriptions_tokenized_de.tsv -O parlament_transcriptions_tokenized_de.tsv"
   ]
  },
  {
   "cell_type": "code",
   "execution_count": null,
   "metadata": {},
   "outputs": [],
   "source": [
    "%%bash\n",
    "cut -f 1 <parlament_transcriptions_tokenized_de.tsv | sort | uniq -c |sort -rn "
   ]
  },
  {
   "cell_type": "code",
   "execution_count": null,
   "metadata": {},
   "outputs": [],
   "source": [
    "%%bash\n",
    "grep  SozialdemokratischeFraktion < parlament_transcriptions_tokenized_de.tsv \\\n",
    " | cut -f 1,3 \\\n",
    " | sed 's/^/__label__/' \\\n",
    " | shuf --random-source=parlament_transcriptions_tokenized_de.tsv \\\n",
    " | head -n 2000 > sp_de.tsv\n",
    "\n",
    "grep  FraktionderSchweizerischenVolkspartei < parlament_transcriptions_tokenized_de.tsv \\\n",
    " | cut -f 1,3 \\\n",
    " | sed 's/^/__label__/' \\\n",
    " | shuf --random-source=parlament_transcriptions_tokenized_de.tsv \\\n",
    " | head -n 2000 > svp_de.tsv\n"
   ]
  },
  {
   "cell_type": "code",
   "execution_count": null,
   "metadata": {},
   "outputs": [],
   "source": [
    "! head sp_de.tsv"
   ]
  },
  {
   "cell_type": "code",
   "execution_count": null,
   "metadata": {},
   "outputs": [],
   "source": [
    "%%bash\n",
    "head -n 1800 < sp_de.tsv > sp_de.train.tsv\n",
    "tail -n 200 < sp_de.tsv > sp_de.test.tsv\n",
    "head -n 1800 < svp_de.tsv > svp_de.train.tsv\n",
    "tail -n 200 < svp_de.tsv > svp_de.test.tsv\n",
    "\n",
    "cat sp_de.train.tsv svp_de.train.tsv > svpandsp_de.train.tsv\n",
    "cat sp_de.test.tsv svp_de.test.tsv > svpandsp_de.test.tsv\n"
   ]
  },
  {
   "cell_type": "code",
   "execution_count": null,
   "metadata": {},
   "outputs": [],
   "source": [
    "! wc -l svpandsp_de.train.tsv  svpandsp_de.test.tsv"
   ]
  },
  {
   "cell_type": "code",
   "execution_count": null,
   "metadata": {},
   "outputs": [],
   "source": [
    "import fasttext\n",
    "model = fasttext.train_supervised(input=\"svpandsp_de.train.tsv\")"
   ]
  },
  {
   "cell_type": "code",
   "execution_count": null,
   "metadata": {},
   "outputs": [],
   "source": [
    "model.test(\"svpandsp_de.test.tsv\")"
   ]
  },
  {
   "cell_type": "markdown",
   "metadata": {},
   "source": [
    "Default values: https://fasttext.cc/docs/en/python-module.html#train_supervised-parameters"
   ]
  },
  {
   "cell_type": "markdown",
   "metadata": {},
   "source": [
    "Take some text from \n",
    "https://www.sp-ps.ch/de/kampagnen/unterschriftensammlungen/nein-zum-steuerbonus-fur-reiche-eltern"
   ]
  },
  {
   "cell_type": "code",
   "execution_count": null,
   "metadata": {},
   "outputs": [],
   "source": [
    "model.predict(\"\"\"Wir sagen NEIN zum Steuerbonus für reiche Eltern ! SVP , FDP und CVP haben beschlossen, die Kinderabzüge bei der Bundessteuer auf 10‘000 Franken zu erhöhen. Was als Familienförderung verkauft wird , ist ein reiner Bonus für Topverdiener . Denn von den Abzügen bei der direkten Bundessteuer profitieren nur jene , die es nicht nötig haben .\"\"\".lower())"
   ]
  },
  {
   "cell_type": "markdown",
   "metadata": {},
   "source": [
    "Take some text from \n",
    "https://www.sp-ps.ch/de/kampagnen/unterschriftensammlungen/nein-zum-steuerbonus-fur-reiche-eltern"
   ]
  },
  {
   "cell_type": "code",
   "execution_count": null,
   "metadata": {},
   "outputs": [],
   "source": [
    "model.predict(\"\"\"Die Menschen in den Grenzregionen leiden unter der brutalen Kriminalität, die wegen der offenen Grenzen fast täglich in die Schweiz schwappt.\"\"\".lower())"
   ]
  },
  {
   "cell_type": "markdown",
   "metadata": {},
   "source": [
    "## Your task: Try to improve the training parameters \n",
    "https://fasttext.cc/docs/en/supervised-tutorial.html\n"
   ]
  },
  {
   "cell_type": "code",
   "execution_count": null,
   "metadata": {},
   "outputs": [],
   "source": [
    "model = fasttext.train_supervised(input='svpandsp_de.train.tsv', autotuneValidationFile='svpandsp_de.test.tsv', autotuneDuration=60)"
   ]
  },
  {
   "cell_type": "code",
   "execution_count": null,
   "metadata": {},
   "outputs": [],
   "source": [
    "model.test(\"svpandsp_de.test.tsv\")"
   ]
  },
  {
   "cell_type": "code",
   "execution_count": null,
   "metadata": {},
   "outputs": [],
   "source": [
    "model.ws,model.lr,model.epoch"
   ]
  },
  {
   "cell_type": "markdown",
   "metadata": {},
   "source": [
    "# Identifying politicians\n"
   ]
  },
  {
   "cell_type": "code",
   "execution_count": null,
   "metadata": {},
   "outputs": [],
   "source": [
    "%%bash\n",
    "cut -f 2 <parlament_transcriptions_tokenized_de.tsv | sort | uniq -c |sort -rn "
   ]
  },
  {
   "cell_type": "code",
   "execution_count": null,
   "metadata": {},
   "outputs": [],
   "source": [
    "%%bash\n",
    "grep  WidmerSchlumpfEveline < parlament_transcriptions_tokenized_de.tsv \\\n",
    " | cut -f 2,3 \\\n",
    " | sed 's/^/__label__/' \\\n",
    " | shuf --random-source=parlament_transcriptions_tokenized_de.tsv \\\n",
    " | head -n 1000 > wse_de.tsv\n",
    "\n",
    "grep  BlocherChristoph < parlament_transcriptions_tokenized_de.tsv \\\n",
    " | cut -f 2,3 \\\n",
    " | sed 's/^/__label__/' \\\n",
    " | shuf --random-source=parlament_transcriptions_tokenized_de.tsv \\\n",
    " | head -n 1000 > bc_de.tsv\n"
   ]
  },
  {
   "cell_type": "code",
   "execution_count": null,
   "metadata": {},
   "outputs": [],
   "source": [
    "%%bash\n",
    "head -n 900 < wse_de.tsv > wse_de.train.tsv\n",
    "tail -n 100 < wse_de.tsv > wse_de.test.tsv\n",
    "head -n 900 < bc_de.tsv > bc_de.train.tsv\n",
    "tail -n 100 < bc_de.tsv > bc_de.test.tsv\n",
    "\n",
    "cat wse_de.train.tsv bc_de.train.tsv > wsebc.train.tsv\n",
    "cat wse_de.test.tsv bc_de.test.tsv > wsebc.test.tsv\n"
   ]
  },
  {
   "cell_type": "code",
   "execution_count": null,
   "metadata": {},
   "outputs": [],
   "source": [
    "model = fasttext.train_supervised(input=\"wsebc.train.tsv\",epoch=50,dim=10,wordNgrams=1)"
   ]
  },
  {
   "cell_type": "code",
   "execution_count": null,
   "metadata": {},
   "outputs": [],
   "source": [
    "model.test(\"wsebc.test.tsv\")"
   ]
  },
  {
   "cell_type": "code",
   "execution_count": null,
   "metadata": {},
   "outputs": [],
   "source": [
    "!head bc_de.test.tsv"
   ]
  },
  {
   "cell_type": "code",
   "execution_count": null,
   "metadata": {},
   "outputs": [],
   "source": [
    "model.predict(\"schlägt der mann sämtliche scheiben ein . man weiss nicht , was man mit ihm machen soll . er kommt für zwei tage in den fürsorgerischen freiheitsentzug . er muss entlassen werden , und er macht am dritten tag das gleiche . in den weisungen der strafjustiz heisst es , man müsse ihn irgendwo unterbringen . sie sagen nun , es gebe keine administrative verwahrung ; ich meine ja nicht eine verwahrung für zehn monate\")"
   ]
  },
  {
   "cell_type": "code",
   "execution_count": null,
   "metadata": {},
   "outputs": [],
   "source": [
    "!head wse_de.test.tsv"
   ]
  },
  {
   "cell_type": "code",
   "execution_count": null,
   "metadata": {},
   "outputs": [],
   "source": [
    "model.predict(\"der einlegerschutz seit inkrafttreten des neuen bankeninsolvenzrechts 2004 nicht mehr nur auf spareinlagen beschränkt ist , sondern sämtliche einlagen von kunden umfasst . zudem ist festzuhalten , dass wertschriften , die sich bei der bank \")"
   ]
  },
  {
   "cell_type": "markdown",
   "metadata": {},
   "source": [
    "## Your turn\n",
    "What happens if you add a third politician? e.g. LeuenbergerMoritz"
   ]
  },
  {
   "cell_type": "code",
   "execution_count": null,
   "metadata": {},
   "outputs": [],
   "source": [
    "s"
   ]
  }
 ],
 "metadata": {
  "kernelspec": {
   "display_name": "Python 3",
   "language": "python",
   "name": "python3"
  },
  "language_info": {
   "codemirror_mode": {
    "name": "ipython",
    "version": 3
   },
   "file_extension": ".py",
   "mimetype": "text/x-python",
   "name": "python",
   "nbconvert_exporter": "python",
   "pygments_lexer": "ipython3"
  }
 },
 "nbformat": 4,
 "nbformat_minor": 2
}
